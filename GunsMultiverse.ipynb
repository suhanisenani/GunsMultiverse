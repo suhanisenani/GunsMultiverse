{
 "cells": [
  {
   "cell_type": "code",
   "execution_count": 3,
   "id": "87228bc8-1840-4451-85b7-0030fb3700d2",
   "metadata": {},
   "outputs": [
    {
     "name": "stdout",
     "output_type": "stream",
     "text": [
      "Guns Detected\n"
     ]
    }
   ],
   "source": [
    "import numpy as np\n",
    "import cv2\n",
    "import imutils\n",
    "import datetime\n",
    "\n",
    "gun_cascade = cv2.CascadeClassifier('cascade.xml')\n",
    "camera = cv2.VideoCapture(0)\n",
    "\n",
    "firstFrame = None\n",
    "gun_exist = False\n",
    "\n",
    "while True:\n",
    "    # Read frame from the camera\n",
    "    ret, frame = camera.read()\n",
    "    if not ret:\n",
    "        break  # If the frame is not valid, exit the loop\n",
    "\n",
    "    # Resize frame and convert to grayscale\n",
    "    frame = imutils.resize(frame, width=500)\n",
    "    gray = cv2.cvtColor(frame, cv2.COLOR_BGR2GRAY)\n",
    "\n",
    "    # Detect guns in the gray frame\n",
    "    gun = gun_cascade.detectMultiScale(\n",
    "        gray,\n",
    "        scaleFactor=1.3,\n",
    "        minNeighbors=5,\n",
    "        minSize=(100, 100)\n",
    "    )\n",
    "\n",
    "    # Update gun_exist if any guns are detected\n",
    "    if len(gun) > 0:\n",
    "        gun_exist = True\n",
    "\n",
    "    # Draw rectangles around detected guns\n",
    "    for (x, y, w, h) in gun:\n",
    "        frame = cv2.rectangle(frame, (x, y), (x + w, y + h), (255, 0, 0), 2)\n",
    "        roi_gray = gray[y:y + h, x:x + w]\n",
    "        roi_color = frame[y:y + h, x:x + w]\n",
    "\n",
    "    # Initialize first frame if it's None\n",
    "    if firstFrame is None:\n",
    "        firstFrame = gray\n",
    "        continue\n",
    "\n",
    "    # Display the video feed\n",
    "    cv2.imshow(\"Security Feed\", frame)\n",
    "    key = cv2.waitKey(1) & 0xFF\n",
    "\n",
    "    # Exit if 'q' is pressed\n",
    "    if key == ord('q'):\n",
    "        break\n",
    "\n",
    "# Check the detection status after the loop ends\n",
    "if gun_exist:\n",
    "    print(\"Guns Detected\")\n",
    "else:\n",
    "    print(\"Guns not Detected\")\n",
    "\n",
    "# Release the camera and close windows\n",
    "camera.release()\n",
    "cv2.destroyAllWindows()"
   ]
  },
  {
   "cell_type": "code",
   "execution_count": null,
   "id": "95138946-f58e-484a-ad40-d22aadc88c68",
   "metadata": {},
   "outputs": [],
   "source": []
  }
 ],
 "metadata": {
  "kernelspec": {
   "display_name": "Python 3 (ipykernel)",
   "language": "python",
   "name": "python3"
  },
  "language_info": {
   "codemirror_mode": {
    "name": "ipython",
    "version": 3
   },
   "file_extension": ".py",
   "mimetype": "text/x-python",
   "name": "python",
   "nbconvert_exporter": "python",
   "pygments_lexer": "ipython3",
   "version": "3.12.4"
  }
 },
 "nbformat": 4,
 "nbformat_minor": 5
}
